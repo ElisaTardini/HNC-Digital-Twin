{
 "cells": [
  {
   "cell_type": "code",
   "execution_count": 1,
   "metadata": {},
   "outputs": [],
   "source": [
    "import pandas as pd\n",
    "from processing import *\n",
    "from DQL_models import *\n",
    "from SVC_models import *"
   ]
  },
  {
   "cell_type": "markdown",
   "metadata": {},
   "source": [
    "# Optimal policy determination in sequential head and neck cancer treatment: A patient-physician digital twin dyad with deep Q-learning"
   ]
  },
  {
   "cell_type": "markdown",
   "metadata": {},
   "source": [
    "## Load patient data"
   ]
  },
  {
   "cell_type": "markdown",
   "metadata": {},
   "source": [
    "Load the patient data for which you would like to compute treatment (or predict treatment outcome).\n",
    "\n",
    "Original dataset can be found at: https://figshare.com/projects/Optimal_policy_determination_in_sequential_head_and_neck_cancer_treatment_A_patient-physician_digital_twin_dyad_with_deep_Q-learning/92840\n"
   ]
  },
  {
   "cell_type": "code",
   "execution_count": null,
   "metadata": {},
   "outputs": [],
   "source": [
    "data_path = '' # insert .csv file path here\n",
    "data = pd.read_csv(data_path)\n",
    "data.head()"
   ]
  },
  {
   "cell_type": "markdown",
   "metadata": {},
   "source": [
    "## Preprocess data"
   ]
  },
  {
   "cell_type": "markdown",
   "metadata": {},
   "source": [
    "Data should be preprocessed according to which treatment step we want to compute/predict."
   ]
  },
  {
   "cell_type": "code",
   "execution_count": null,
   "metadata": {},
   "outputs": [],
   "source": [
    "# if we want to preprocess data to compute the first treatment decision\n",
    "data_preprocessed = preprocess(data, 'treat', 1)\n",
    "# if we want to preprocess data to predict the outcome of the first treatment decision\n",
    "data_preprocessed = preprocess(data, 'pred', 1)\n",
    "# if we want to preprocess data to compute the second treatment decision\n",
    "data_preprocessed = preprocess(data, 'treat', 2)\n",
    "# if we want to preprocess data to predict the outcome of the second treatment decision\n",
    "data_preprocessed = preprocess(data, 'pred', 2)\n",
    "# if we want to preprocess data to compute the third treatment decision\n",
    "data_preprocessed = preprocess(data, 'treat', 3)\n",
    "# if we want to preprocess data to predict the outcome of the third treatment decision\n",
    "data_preprocessed = preprocess(data, 'pred', 3)"
   ]
  },
  {
   "cell_type": "markdown",
   "metadata": {},
   "source": [
    "## The physician's *digital twin*: compute optimal treatment decisions"
   ]
  },
  {
   "cell_type": "markdown",
   "metadata": {},
   "source": [
    "We can choose for which treatment junction we want to compute the optimal treatment decision:\n",
    "- *Decision 1 (Induction Chemo)*\n",
    "- *Decision 2 (CC/RT alone)*\n",
    "- *Decision 3 (Neck Dissection)*\n",
    "\n",
    "For each decision, the bootstrapped model computes a binary decision as well as a *Confidence %* (i.e. the percentage of bootstraps that agreed on the optimal treatment)"
   ]
  },
  {
   "cell_type": "markdown",
   "metadata": {},
   "source": [
    "### Decision 1 (Induction Chemo)"
   ]
  },
  {
   "cell_type": "code",
   "execution_count": null,
   "metadata": {},
   "outputs": [],
   "source": [
    "# preprocess data in correct format\n",
    "data_preprocessed = preprocess(data, 'treat', 1)\n",
    "# compute optimal outcome\n",
    "data_treated = treat(data, 1)\n",
    "# reprocess data to original format\n",
    "data_postprocessed = postprocess(data_treated)\n",
    "data_postprocessed"
   ]
  },
  {
   "cell_type": "markdown",
   "metadata": {},
   "source": [
    "### Decision 2 (CC/RT alone) "
   ]
  },
  {
   "cell_type": "code",
   "execution_count": null,
   "metadata": {},
   "outputs": [],
   "source": [
    "# preprocess data in correct format\n",
    "data_preprocessed = preprocess(data, 'treat', 2)\n",
    "# compute optimal outcome\n",
    "data_treated = treat(data, 1)\n",
    "# reprocess data to original format\n",
    "data_postprocessed = postprocess(data_treated)\n",
    "data_postprocessed"
   ]
  },
  {
   "cell_type": "markdown",
   "metadata": {},
   "source": [
    "### Decision 3 (Neck Dissection)"
   ]
  },
  {
   "cell_type": "code",
   "execution_count": null,
   "metadata": {},
   "outputs": [],
   "source": [
    "# preprocess data in correct format\n",
    "data_preprocessed = preprocess(data, 'treat', 3)\n",
    "# compute optimal outcome\n",
    "data_treated = treat(data, 1)\n",
    "# reprocess data to original format\n",
    "data_postprocessed = postprocess(data_treated)\n",
    "data_postprocessed"
   ]
  },
  {
   "cell_type": "markdown",
   "metadata": {},
   "source": [
    "## The patient's *digital twin*: predicting treatment outcome"
   ]
  },
  {
   "cell_type": "markdown",
   "metadata": {},
   "source": [
    "We can predict the outcome of each of the 3 decisions"
   ]
  },
  {
   "cell_type": "markdown",
   "metadata": {},
   "source": [
    "### Outcome of *Decision 1 (Induction Chemo)*"
   ]
  },
  {
   "cell_type": "code",
   "execution_count": null,
   "metadata": {},
   "outputs": [],
   "source": [
    "# preprocess data in correct format\n",
    "data_preprocessed = preprocess(data, 'pred', 1)\n",
    "# compute optimal outcome\n",
    "data_predicted = treat(data, 1)\n",
    "# reprocess data to original format\n",
    "data_postprocessed = postprocess(data_predicted)\n",
    "data_postprocessed"
   ]
  },
  {
   "cell_type": "markdown",
   "metadata": {},
   "source": [
    "### Outcome of *Decision 2 (CC/RT alone)*"
   ]
  },
  {
   "cell_type": "code",
   "execution_count": null,
   "metadata": {},
   "outputs": [],
   "source": [
    "# preprocess data in correct format\n",
    "data_preprocessed = preprocess(data, 'pred', 2)\n",
    "# compute optimal outcome\n",
    "data_predicted = treat(data, 1)\n",
    "# reprocess data to original format\n",
    "data_postprocessed = postprocess(data_predicted)\n",
    "data_postprocessed"
   ]
  },
  {
   "cell_type": "markdown",
   "metadata": {},
   "source": [
    "### Outcome of *Decision 3 (Neck Dissection)*"
   ]
  },
  {
   "cell_type": "code",
   "execution_count": null,
   "metadata": {},
   "outputs": [],
   "source": [
    "# preprocess data in correct format\n",
    "data_preprocessed = preprocess(data, 'pred', 3)\n",
    "# compute optimal outcome\n",
    "data_predicted = treat(data, 1)\n",
    "# reprocess data to original format\n",
    "data_postprocessed = postprocess(data_predicted)\n",
    "data_postprocessed"
   ]
  },
  {
   "cell_type": "markdown",
   "metadata": {},
   "source": [
    "## The *digital twin dyad*: combining treatment and prediction"
   ]
  },
  {
   "cell_type": "markdown",
   "metadata": {},
   "source": [
    "We can compute a whole optimal treatment sequence and its outcome as follows."
   ]
  },
  {
   "cell_type": "code",
   "execution_count": null,
   "metadata": {},
   "outputs": [],
   "source": [
    "data_preprocessed = preprocess(data.loc[0], 'treat', 1)\n",
    "# compute optimal decision 1\n",
    "data_treated = treat(data_preprocessed, 1)\n",
    "# predict outcome of optimal decision 1\n",
    "data_predicted = predict(data_treated, 1)\n",
    "# compute optimal decision 2\n",
    "data_treated = treat(data_predicted, 2)\n",
    "# predict outcome of optimal decision 2\n",
    "data_predicted = predict(data_treated, 2)\n",
    "# compute optimal decision 3\n",
    "data_treated = treat(data_predicted, 3)\n",
    "# predict outcome of optimal decision 3\n",
    "data_predicted = predict(data_treated, 3)\n",
    "data_postprocessed = postprocess(data_predicted)\n",
    "data_postprocessed"
   ]
  }
 ],
 "metadata": {
  "kernelspec": {
   "display_name": "Python 3",
   "language": "python",
   "name": "python3"
  },
  "language_info": {
   "codemirror_mode": {
    "name": "ipython",
    "version": 3
   },
   "file_extension": ".py",
   "mimetype": "text/x-python",
   "name": "python",
   "nbconvert_exporter": "python",
   "pygments_lexer": "ipython3",
   "version": "3.7.3"
  }
 },
 "nbformat": 4,
 "nbformat_minor": 2
}
